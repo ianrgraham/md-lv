{
 "cells": [
  {
   "cell_type": "code",
   "execution_count": 34,
   "metadata": {},
   "outputs": [],
   "source": [
    "import numpy as np\n",
    "import matplotlib.pyplot as plt\n",
    "import matplotlib as mpl\n",
    "import pandas as pd\n",
    "import seaborn as sns\n",
    "\n",
    "import sys\n",
    "import os\n",
    "import subprocess\n",
    "import glob\n",
    "from collections import defaultdict"
   ]
  },
  {
   "cell_type": "code",
   "execution_count": 2,
   "metadata": {},
   "outputs": [],
   "source": [
    "directory = \"/home/ian/Projects/work/md-lv/simulations/replica_v11_vf5\""
   ]
  },
  {
   "cell_type": "code",
   "execution_count": 3,
   "metadata": {},
   "outputs": [
    {
     "name": "stdout",
     "output_type": "stream",
     "text": [
      "/home/ian/Projects/work/md-lv/simulations/replica_v11_vf5\n"
     ]
    }
   ],
   "source": [
    "%cd $directory"
   ]
  },
  {
   "cell_type": "code",
   "execution_count": 4,
   "metadata": {},
   "outputs": [
    {
     "data": {
      "text/plain": [
       "'/home/ian/Projects/work/md-lv/simulations/replica_v11_vf5'"
      ]
     },
     "execution_count": 4,
     "metadata": {},
     "output_type": "execute_result"
    }
   ],
   "source": [
    "pwd"
   ]
  },
  {
   "cell_type": "code",
   "execution_count": 24,
   "metadata": {},
   "outputs": [],
   "source": [
    "def fetch_xyz(file, dim=2):\n",
    "    assert(dim==2 or dim==3)\n",
    "    output = []\n",
    "    with open(file, \"r\") as xyz:\n",
    "        try:\n",
    "            while True:\n",
    "                N = int(xyz.readline())\n",
    "                xyz.readline()\n",
    "                arr = np.empty((N, dim))\n",
    "                for i in np.arange(N):\n",
    "                    line = xyz.readline()\n",
    "                    _, x, y, _ = line.split()\n",
    "                    if dim == 2:\n",
    "                        arr[i] = np.array([float(x), float(y)])\n",
    "                    else:\n",
    "                        arr[i] = np.array([float(x), float(y), float(z)])\n",
    "                output.append(arr)\n",
    "        except:\n",
    "            pass\n",
    "    return np.array(output)\n",
    "\n",
    "def msd_simple(traj, ref=0):\n",
    "    shape = traj.shape\n",
    "    timesteps = shape[0]\n",
    "    N = shape[1]\n",
    "    oN = 1/N\n",
    "    dim = shape[2]\n",
    "\n",
    "    msd = np.zeros((timesteps-ref))\n",
    "    for i in np.arange(ref, timesteps):\n",
    "        msd[i] = np.mean(np.square(np.linalg.norm(traj[i] - traj[ref], axis=-1)))\n",
    "    return msd\n",
    "\n",
    "def msd_wrap(traj, V, ref=0):\n",
    "    L=np.sqrt(V)\n",
    "    L2 = L/2\n",
    "    shape = traj.shape\n",
    "    timesteps = shape[0]\n",
    "    N = shape[1]\n",
    "    oN = 1/N\n",
    "    dim = shape[2]\n",
    "\n",
    "    wrap = np.zeros((N, dim))\n",
    "\n",
    "    msd = np.zeros((timesteps-ref-1))\n",
    "    for i in np.arange(ref+1, timesteps):\n",
    "        diff = traj[i] - traj[i-1]\n",
    "        cond1 = diff > L2\n",
    "        cond2 = diff < -L2\n",
    "        wrap += cond2.astype(int) - cond1.astype(int)\n",
    "\n",
    "        msd[i-ref-1] = np.mean(np.square(np.linalg.norm(traj[i] + L*wrap - traj[ref], axis=-1)))\n",
    "    return msd, wrap\n",
    "\n",
    "def msd_wrap_drift(traj, V, ref=0):\n",
    "    L=np.sqrt(V)\n",
    "    L2 = L/2\n",
    "    shape = traj.shape\n",
    "    timesteps = shape[0]\n",
    "    N = shape[1]\n",
    "    oN = 1/N\n",
    "    dim = shape[2]\n",
    "\n",
    "    wrap = np.zeros((N, dim))\n",
    "\n",
    "    msd = np.zeros((timesteps-ref-1))\n",
    "    for i in np.arange(ref+1, timesteps):\n",
    "        diff = traj[i] - traj[i-1]\n",
    "        cond1 = diff > L2\n",
    "        cond2 = diff < -L2\n",
    "        wrap += cond2.astype(int) - cond1.astype(int)\n",
    "\n",
    "        move = traj[i] + L*wrap - traj[ref]\n",
    "\n",
    "        drift = np.mean(move, axis=0)\n",
    "\n",
    "        msd[i-ref-1] = np.mean(np.square(np.linalg.norm(move-drift, axis=-1)))\n",
    "    return msd, wrap"
   ]
  },
  {
   "cell_type": "code",
   "execution_count": 6,
   "metadata": {},
   "outputs": [],
   "source": [
    "trajs = sorted(glob.glob(\"traj_*_step1000000_*\"))\n",
    "logs = sorted(glob.glob(\"log_*_step1000000_*\"))"
   ]
  },
  {
   "cell_type": "code",
   "execution_count": 7,
   "metadata": {},
   "outputs": [
    {
     "data": {
      "text/plain": [
       "('traj_init_compress_replica_n10_v11_vf5_t0.5_step1000000_dt0.001_visc5_seed0_out1000.xyz',\n",
       " 'log_Ib_init_compress_replica_n10_v11_vf5_t0.5_step1000000_dt0.001_visc5_seed0_out1000.dat')"
      ]
     },
     "execution_count": 7,
     "metadata": {},
     "output_type": "execute_result"
    }
   ],
   "source": [
    "trajs[0], logs[0]"
   ]
  },
  {
   "cell_type": "code",
   "execution_count": 10,
   "metadata": {},
   "outputs": [
    {
     "data": {
      "text/plain": [
       "1000"
      ]
     },
     "execution_count": 10,
     "metadata": {},
     "output_type": "execute_result"
    }
   ],
   "source": [
    "len(logs)"
   ]
  },
  {
   "cell_type": "code",
   "execution_count": 80,
   "metadata": {},
   "outputs": [],
   "source": [
    "data = []\n",
    "for l in logs:\n",
    "    data.append(np.loadtxt(l))"
   ]
  },
  {
   "cell_type": "code",
   "execution_count": 82,
   "metadata": {},
   "outputs": [],
   "source": [
    "data = np.array(data)[:,1:]"
   ]
  },
  {
   "cell_type": "code",
   "execution_count": 83,
   "metadata": {},
   "outputs": [],
   "source": [
    "def get_bias_quantitiy(factor, temperature, quantity):\n",
    "    P = np.exp(-factor/temperature)\n",
    "    norm = np.sum(P, axis=0)\n",
    "    numerator = np.sum(quantity*P, axis=0)\n",
    "    return numerator/norm"
   ]
  },
  {
   "cell_type": "code",
   "execution_count": 53,
   "metadata": {},
   "outputs": [
    {
     "name": "stdout",
     "output_type": "stream",
     "text": [
      "1000 0\n",
      "1000 100\n",
      "1000 200\n",
      "1000 300\n",
      "1000 400\n",
      "1000 500\n",
      "1000 600\n",
      "1000 700\n",
      "1000 800\n",
      "1000 900\n"
     ]
    }
   ],
   "source": [
    "msd_data_drift = []\n",
    "for j in np.arange(len(trajs)//100):\n",
    "    for k in np.arange(100):\n",
    "        i = j*100+k\n",
    "        if i%100 == 0:\n",
    "            print(len(trajs), i)\n",
    "        f = trajs[i]\n",
    "        xyz = fetch_xyz(f)\n",
    "        msd_t, _ = msd_wrap_drift(xyz, 11)\n",
    "        msd_data_drift.append(msd_t)"
   ]
  },
  {
   "cell_type": "code",
   "execution_count": 84,
   "metadata": {},
   "outputs": [],
   "source": [
    "bias = get_bias_quantitiy(data, .5, msd_data_drift)"
   ]
  },
  {
   "cell_type": "code",
   "execution_count": 85,
   "metadata": {},
   "outputs": [
    {
     "data": {
      "text/plain": [
       "[<matplotlib.lines.Line2D at 0x7f9eaab30190>]"
      ]
     },
     "execution_count": 85,
     "metadata": {},
     "output_type": "execute_result"
    },
    {
     "data": {
      "image/png": "[encoded data removed]",
      "text/plain": [
       "<Figure size 432x288 with 1 Axes>"
      ]
     },
     "metadata": {
      "needs_background": "light"
     },
     "output_type": "display_data"
    }
   ],
   "source": [
    "plt.plot(bias)\n",
    "plt.plot(np.mean(msd_data_drift, axis=0))"
   ]
  },
  {
   "cell_type": "code",
   "execution_count": 58,
   "metadata": {},
   "outputs": [
    {
     "data": {
      "text/plain": [
       "dtype('float64')"
      ]
     },
     "execution_count": 58,
     "metadata": {},
     "output_type": "execute_result"
    }
   ],
   "source": [
    "data.dtype"
   ]
  },
  {
   "cell_type": "code",
   "execution_count": 51,
   "metadata": {},
   "outputs": [],
   "source": [
    "data = data[:,:-1]"
   ]
  },
  {
   "cell_type": "code",
   "execution_count": 63,
   "metadata": {},
   "outputs": [
    {
     "data": {
      "text/plain": [
       "(1000, 999)"
      ]
     },
     "execution_count": 63,
     "metadata": {},
     "output_type": "execute_result"
    }
   ],
   "source": [
    "data.shape"
   ]
  },
  {
   "cell_type": "code",
   "execution_count": 64,
   "metadata": {},
   "outputs": [
    {
     "data": {
      "text/plain": [
       "dtype('float64')"
      ]
     },
     "execution_count": 64,
     "metadata": {},
     "output_type": "execute_result"
    }
   ],
   "source": [
    "msd_data_drift.dtype"
   ]
  },
  {
   "cell_type": "code",
   "execution_count": 61,
   "metadata": {},
   "outputs": [],
   "source": [
    "msd_data_drift = np.array(msd_data_drift)"
   ]
  },
  {
   "cell_type": "code",
   "execution_count": 48,
   "metadata": {},
   "outputs": [
    {
     "data": {
      "image/png": "[encoded data removed]",
      "text/plain": [
       "<Figure size 432x288 with 1 Axes>"
      ]
     },
     "metadata": {
      "needs_background": "light"
     },
     "output_type": "display_data"
    }
   ],
   "source": [
    "plt.plot(np.linspace(0, msd_data_drift[0].shape[-1]/10, msd_data_drift[0].shape[-1]), msd_data_drift[8])\n",
    "plt.xlabel(\"time [s]\")\n",
    "plt.ylabel(r\"MSD [$\\sigma$]\")\n",
    "plt.savefig(\"MSD.png\")"
   ]
  },
  {
   "cell_type": "code",
   "execution_count": 41,
   "metadata": {},
   "outputs": [
    {
     "data": {
      "image/png": "[encoded data removed]",
      "text/plain": [
       "<Figure size 432x288 with 1 Axes>"
      ]
     },
     "metadata": {
      "needs_background": "light"
     },
     "output_type": "display_data"
    }
   ],
   "source": [
    "cmap = mpl.cm.viridis\n",
    "norm = mpl.colors.Normalize(vmin=5, vmax=11)\n",
    "max_t = 1000\n",
    "plt.plot(np.linspace(0, msd_data_drift[0].shape[-1]/10, msd_data_drift[0].shape[-1])[:max_t], np.mean(msd_data_drift, axis=0)[:max_t], alpha=1)\n",
    "plt.xlabel(\"time [s]\")\n",
    "plt.ylabel(r\"MSD [$\\sigma$]\")\n",
    "plt.savefig(\"MSD.png\")"
   ]
  },
  {
   "cell_type": "code",
   "execution_count": null,
   "metadata": {},
   "outputs": [],
   "source": []
  }
 ],
 "metadata": {
  "kernelspec": {
   "display_name": "Python [conda env:analysis]",
   "language": "python",
   "name": "conda-env-analysis-py"
  },
  "language_info": {
   "codemirror_mode": {
    "name": "ipython",
    "version": 3
   },
   "file_extension": ".py",
   "mimetype": "text/x-python",
   "name": "python",
   "nbconvert_exporter": "python",
   "pygments_lexer": "ipython3",
   "version": "3.8.8"
  }
 },
 "nbformat": 4,
 "nbformat_minor": 2
}
