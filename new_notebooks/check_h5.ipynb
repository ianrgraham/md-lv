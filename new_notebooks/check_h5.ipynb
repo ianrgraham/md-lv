{
 "cells": [
  {
   "cell_type": "code",
   "execution_count": 1,
   "metadata": {},
   "outputs": [],
   "source": [
    "import h5py\n",
    "import numpy as np\n",
    "import matplotlib.pyplot as plt\n",
    "import matplotlib as mpl\n",
    "import matplotlib.colors as colors\n",
    "import matplotlib.cm as cm\n",
    "#matplotlib.rcParams.update({'font.size': 20})\n",
    "mpl.rcParams.update({'figure.dpi': 200})\n",
    "mpl.rcParams.update({'figure.figsize': (3,2)})\n",
    "import pandas as pd\n",
    "import seaborn as sns\n",
    "from copy import deepcopy\n",
    "\n",
    "import sys\n",
    "import os\n",
    "import subprocess\n",
    "import glob\n",
    "from collections import defaultdict\n",
    "import scipy as sp\n",
    "from scipy import special\n",
    "from itertools import product"
   ]
  },
  {
   "cell_type": "code",
   "execution_count": 181,
   "metadata": {},
   "outputs": [],
   "source": [
    "temp = 0.1\n",
    "beta = 1/temp\n",
    "\n",
    "data_files = glob.glob(f\"/media/ian/Data/final_md_lv/variants_*t-{temp}*\")"
   ]
  },
  {
   "cell_type": "code",
   "execution_count": 183,
   "metadata": {},
   "outputs": [
    {
     "name": "stdout",
     "output_type": "stream",
     "text": [
      "/media/ian/Data/final_md_lv/variants_n-10_l-3.5_t-0.1_time-10_dt-1e-3_visc-5_seed-15_phi-0.9489_rA-0.5000_rB-0.7000_vs-1.h5\n",
      "/media/ian/Data/final_md_lv/variants_n-10_l-3.5_t-0.1_time-10_dt-1e-3_visc-5_seed-11_phi-0.9489_rA-0.5000_rB-0.7000_vs-1.h5\n",
      "/media/ian/Data/final_md_lv/variants_n-10_l-3.5_t-0.1_time-10_dt-1e-3_visc-5_seed-14_phi-0.9489_rA-0.5000_rB-0.7000_vs-1.h5\n",
      "/media/ian/Data/final_md_lv/variants_n-10_l-3.5_t-0.1_time-10_dt-1e-3_visc-5_seed-17_phi-0.9489_rA-0.5000_rB-0.7000_vs-1.h5\n",
      "/media/ian/Data/final_md_lv/variants_n-10_l-3.5_t-0.1_time-10_dt-1e-3_visc-5_seed-16_phi-0.9489_rA-0.5000_rB-0.7000_vs-1.h5\n",
      "/media/ian/Data/final_md_lv/variants_n-10_l-3.5_t-0.1_time-10_dt-1e-3_visc-5_seed-19_phi-0.9489_rA-0.5000_rB-0.7000_vs-1.h5\n",
      "/media/ian/Data/final_md_lv/variants_n-10_l-3.5_t-0.1_time-10_dt-1e-3_visc-5_seed-10_phi-0.9489_rA-0.5000_rB-0.7000_vs-1.h5\n",
      "/media/ian/Data/final_md_lv/variants_n-10_l-3.5_t-0.1_time-10_dt-1e-3_visc-5_seed-13_phi-0.9489_rA-0.5000_rB-0.7000_vs-1.h5\n",
      "/media/ian/Data/final_md_lv/variants_n-10_l-3.5_t-0.1_time-10_dt-1e-3_visc-5_seed-18_phi-0.9489_rA-0.5000_rB-0.7000_vs-1.h5\n",
      "/media/ian/Data/final_md_lv/variants_n-10_l-3.5_t-0.1_time-10_dt-1e-3_visc-5_seed-12_phi-0.9489_rA-0.5000_rB-0.7000_vs-1.h5\n"
     ]
    }
   ],
   "source": [
    "# pull h5 data from files\n",
    "MSD_f = np.zeros(10)\n",
    "MSD_pred_f = np.zeros(10)\n",
    "Ibs = []\n",
    "\n",
    "var_idx = 2\n",
    "\n",
    "M = 0\n",
    "\n",
    "for data_file in data_files[:]:\n",
    "    print(data_file)\n",
    "    N = 0\n",
    "    MSD = np.zeros(10)\n",
    "    MSD_pred = np.zeros(10)\n",
    "    M += 1\n",
    "    with h5py.File(data_file, \"r\") as f:\n",
    "        group = f.get(\"realizations\")\n",
    "        init_x = f.get(\"meta\").get(\"init_x\")[:]\n",
    "        keys = group.keys()\n",
    "        # print(group.get(\"0\").get(\"Ib\")[:])\n",
    "        sum_Ib = np.zeros_like(group.get(\"0\").get(\"Ib\")[:,0])\n",
    "        max_Ib = -group.get(\"0\").get(\"Ib\")[:,var_idx]*beta\n",
    "        for k in keys:\n",
    "            dataset = group.get(k)\n",
    "            Ib = -dataset.get(\"Ib\")[:,var_idx]*beta\n",
    "            Ibs.append(Ib)\n",
    "            max_Ib = np.max(np.stack([max_Ib, Ib]), axis=0)\n",
    "        for k in keys:\n",
    "            dataset = group.get(k)\n",
    "            Ib = np.exp(-dataset.get(\"Ib\")[:,var_idx]*beta - max_Ib)\n",
    "            sum_Ib += Ib\n",
    "            dataset = group.get(k)\n",
    "            pos = dataset.get(\"pos\")[:]\n",
    "            msd = (1/pos.shape[1])*np.sum(np.square(pos - init_x), axis=(1,2))\n",
    "            MSD += msd\n",
    "            MSD_pred += msd*Ib\n",
    "            N += 1\n",
    "    \n",
    "    MSD /= N\n",
    "\n",
    "    MSD_pred = np.log(MSD_pred)\n",
    "    MSD_pred -= np.log(sum_Ib)\n",
    "    MSD_pred = np.exp(MSD_pred)\n",
    "\n",
    "    MSD_f += MSD\n",
    "    MSD_pred_f += MSD_pred\n",
    "\n",
    "MSD_f /= M\n",
    "MSD_pred_f /= M\n"
   ]
  },
  {
   "cell_type": "code",
   "execution_count": 189,
   "metadata": {},
   "outputs": [
    {
     "data": {
      "text/plain": [
       "array([[3.37556347e-083, 2.09635254e-188, 0.00000000e+000, ...,\n",
       "        0.00000000e+000, 0.00000000e+000, 0.00000000e+000],\n",
       "       [2.09273349e-168, 0.00000000e+000, 0.00000000e+000, ...,\n",
       "        0.00000000e+000, 0.00000000e+000, 0.00000000e+000],\n",
       "       [5.60872633e-117, 2.65114870e-257, 0.00000000e+000, ...,\n",
       "        0.00000000e+000, 0.00000000e+000, 0.00000000e+000],\n",
       "       ...,\n",
       "       [9.73816027e-093, 0.00000000e+000, 0.00000000e+000, ...,\n",
       "        0.00000000e+000, 0.00000000e+000, 0.00000000e+000],\n",
       "       [3.77166146e-083, 0.00000000e+000, 0.00000000e+000, ...,\n",
       "        0.00000000e+000, 0.00000000e+000, 0.00000000e+000],\n",
       "       [2.56351625e-270, 0.00000000e+000, 0.00000000e+000, ...,\n",
       "        0.00000000e+000, 0.00000000e+000, 0.00000000e+000]])"
      ]
     },
     "execution_count": 189,
     "metadata": {},
     "output_type": "execute_result"
    }
   ],
   "source": [
    "exp_Ibs"
   ]
  },
  {
   "cell_type": "code",
   "execution_count": 187,
   "metadata": {},
   "outputs": [],
   "source": [
    "exp_Ibs = np.exp(Ibs)"
   ]
  },
  {
   "cell_type": "code",
   "execution_count": 191,
   "metadata": {},
   "outputs": [
    {
     "data": {
      "text/plain": [
       "<ErrorbarContainer object of 3 artists>"
      ]
     },
     "execution_count": 191,
     "metadata": {},
     "output_type": "execute_result"
    },
    {
     "data": {
      "image/png": "[encoded data removed]",
      "text/plain": [
       "<Figure size 600x400 with 1 Axes>"
      ]
     },
     "metadata": {
      "needs_background": "light"
     },
     "output_type": "display_data"
    }
   ],
   "source": [
    "plt.errorbar(x=np.arange(0,10), y=np.mean(exp_Ibs, axis=0), yerr=np.std(exp_Ibs, axis=0))"
   ]
  },
  {
   "cell_type": "code",
   "execution_count": 186,
   "metadata": {},
   "outputs": [
    {
     "data": {
      "text/plain": [
       "[<matplotlib.lines.Line2D at 0x7efd96cba0d0>]"
      ]
     },
     "execution_count": 186,
     "metadata": {},
     "output_type": "execute_result"
    },
    {
     "data": {
      "image/png": "[encoded data removed]",
      "text/plain": [
       "<Figure size 600x400 with 1 Axes>"
      ]
     },
     "metadata": {
      "needs_background": "light"
     },
     "output_type": "display_data"
    }
   ],
   "source": [
    "plt.plot(MSD)\n",
    "plt.plot(MSD_pred)\n",
    "# plt.yscale('log')\n",
    "# plt.xscale('log')"
   ]
  },
  {
   "cell_type": "code",
   "execution_count": null,
   "metadata": {},
   "outputs": [],
   "source": [
    "# plot prediction"
   ]
  }
 ],
 "metadata": {
  "interpreter": {
   "hash": "31b3881c9f7eb96fc1e4bfddd4b9b52265e68da258ffece4250b1bec13bf910d"
  },
  "kernelspec": {
   "display_name": "Python 3.8.5 64-bit ('analysis': conda)",
   "name": "python3"
  },
  "language_info": {
   "codemirror_mode": {
    "name": "ipython",
    "version": 3
   },
   "file_extension": ".py",
   "mimetype": "text/x-python",
   "name": "python",
   "nbconvert_exporter": "python",
   "pygments_lexer": "ipython3",
   "version": "3.8.5"
  },
  "orig_nbformat": 4
 },
 "nbformat": 4,
 "nbformat_minor": 2
}