{
 "cells": [
  {
   "cell_type": "code",
   "execution_count": 11,
   "metadata": {},
   "outputs": [],
   "source": [
    "import numpy as np\n",
    "import matplotlib.pyplot as plt\n",
    "import pandas as pd\n",
    "import seaborn as sns\n",
    "\n",
    "import sys\n",
    "import os\n",
    "import subprocess\n",
    "from itertools import product\n",
    "import multiprocessing as mp"
   ]
  },
  {
   "cell_type": "code",
   "execution_count": 16,
   "metadata": {},
   "outputs": [],
   "source": [
    "temps = np.array([0.01, 0.1, 0.4, 0.5, 0.6, 0.7, 0.8])\n",
    "temps = np.array([0.2, 0.3])\n",
    "rscales = np.linspace(1.0, 2.0, 6)"
   ]
  },
  {
   "cell_type": "code",
   "execution_count": 20,
   "metadata": {},
   "outputs": [],
   "source": [
    "seed = 0"
   ]
  },
  {
   "cell_type": "code",
   "execution_count": 21,
   "metadata": {},
   "outputs": [
    {
     "data": {
      "text/plain": [
       "0"
      ]
     },
     "execution_count": 21,
     "metadata": {},
     "output_type": "execute_result"
    }
   ],
   "source": [
    "seed"
   ]
  },
  {
   "cell_type": "code",
   "execution_count": 22,
   "metadata": {},
   "outputs": [
    {
     "name": "stdout",
     "output_type": "stream",
     "text": [
      "0.01 1.0\n",
      "0.01 1.2\n",
      "0.01 1.4\n",
      "0.01 1.6\n",
      "0.01 1.8\n",
      "0.01 2.0\n",
      "0.1 1.0\n",
      "0.1 1.2\n",
      "0.1 1.4\n",
      "0.1 1.6\n",
      "0.1 1.8\n",
      "0.1 2.0\n",
      "0.4 1.0\n",
      "0.4 1.2\n",
      "0.4 1.4\n",
      "0.4 1.6\n",
      "0.4 1.8\n",
      "0.4 2.0\n",
      "0.5 1.0\n",
      "0.5 1.2\n",
      "0.5 1.4\n",
      "0.5 1.6\n",
      "0.5 1.8\n",
      "0.5 2.0\n",
      "0.6 1.0\n",
      "0.6 1.2\n",
      "0.6 1.4\n",
      "0.6 1.6\n",
      "0.6 1.8\n",
      "0.6 2.0\n",
      "0.7 1.0\n",
      "0.7 1.2\n",
      "0.7 1.4\n",
      "0.7 1.6\n",
      "0.7 1.8\n",
      "0.7 2.0\n",
      "0.8 1.0\n",
      "0.8 1.2\n",
      "0.8 1.4\n",
      "0.8 1.6\n",
      "0.8 1.8\n",
      "0.8 2.0\n"
     ]
    }
   ],
   "source": [
    "def worker(temp, rscale, seed):\n",
    "    os.system(f\"/home/ian/Projects/work/md-lv/target/release/md-lv --len 5.0 --time 100.0 -o 1.0 --temp {temp} --rscale {rscale} --seed {seed} --dir /media/ian/Data/new_md_lv\")\n",
    "\n",
    "inputs = product(temps, rscales)\n",
    "\n",
    "pool = mp.Pool(7)\n",
    "\n",
    "for temp, rscale in inputs:\n",
    "    print(temp, rscale)\n",
    "    iters = [(temp, rscale, s) for s in range(seed, seed+100)]\n",
    "    pool.starmap(worker, iters)\n",
    "    seed += 100"
   ]
  },
  {
   "cell_type": "code",
   "execution_count": null,
   "metadata": {},
   "outputs": [],
   "source": []
  }
 ],
 "metadata": {
  "interpreter": {
   "hash": "31b3881c9f7eb96fc1e4bfddd4b9b52265e68da258ffece4250b1bec13bf910d"
  },
  "kernelspec": {
   "display_name": "Python 3.8.5 64-bit ('analysis': conda)",
   "name": "python3"
  },
  "language_info": {
   "codemirror_mode": {
    "name": "ipython",
    "version": 3
   },
   "file_extension": ".py",
   "mimetype": "text/x-python",
   "name": "python",
   "nbconvert_exporter": "python",
   "pygments_lexer": "ipython3",
   "version": "3.8.5"
  }
 },
 "nbformat": 4,
 "nbformat_minor": 2
}