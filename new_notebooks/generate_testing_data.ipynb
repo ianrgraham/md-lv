{
 "cells": [
  {
   "cell_type": "code",
   "execution_count": 1,
   "metadata": {},
   "outputs": [],
   "source": [
    "import numpy as np\n",
    "import matplotlib.pyplot as plt\n",
    "import pandas as pd\n",
    "import seaborn as sns\n",
    "import glob\n",
    "\n",
    "import sys\n",
    "import os\n",
    "import subprocess\n",
    "from itertools import product\n",
    "import multiprocessing as mp"
   ]
  },
  {
   "cell_type": "code",
   "execution_count": 18,
   "metadata": {},
   "outputs": [],
   "source": [
    "seed = 0"
   ]
  },
  {
   "cell_type": "code",
   "execution_count": 19,
   "metadata": {},
   "outputs": [],
   "source": [
    "def worker(seed):\n",
    "    os.system(f\"/home/ian/Projects/work/md-lv/target/release/md-lv --len 3.5 --time 1000000 --seed {seed} --dir /media/ian/Data/final_md_lv equil-gd\")\n",
    "\n",
    "\n",
    "\n",
    "pool = mp.Pool(7)\n",
    "\n",
    "pool.map_async(worker, range(seed, seed+10))\n",
    "seed += 10"
   ]
  },
  {
   "cell_type": "code",
   "execution_count": 21,
   "metadata": {},
   "outputs": [],
   "source": [
    "inputs = sorted(glob.glob(\"/media/ian/Data/final_md_lv/equil*.json\"))"
   ]
  },
  {
   "cell_type": "code",
   "execution_count": 22,
   "metadata": {},
   "outputs": [
    {
     "data": {
      "text/plain": [
       "10"
      ]
     },
     "execution_count": 22,
     "metadata": {},
     "output_type": "execute_result"
    }
   ],
   "source": [
    "len(inputs)"
   ]
  },
  {
   "cell_type": "code",
   "execution_count": 23,
   "metadata": {},
   "outputs": [
    {
     "data": {
      "text/plain": [
       "'/media/ian/Data/final_md_lv/equil_n-10_l-3.5_dt-1e-3_visc-5_seed-0_phi-0.9489_rA-0.5000_rB-0.7000_vs-1.json'"
      ]
     },
     "execution_count": 23,
     "metadata": {},
     "output_type": "execute_result"
    }
   ],
   "source": [
    "inputs[0]"
   ]
  },
  {
   "cell_type": "code",
   "execution_count": 24,
   "metadata": {},
   "outputs": [
    {
     "data": {
      "text/plain": [
       "10"
      ]
     },
     "execution_count": 24,
     "metadata": {},
     "output_type": "execute_result"
    }
   ],
   "source": [
    "seed"
   ]
  },
  {
   "cell_type": "code",
   "execution_count": 25,
   "metadata": {},
   "outputs": [],
   "source": [
    "def worker(init_config, seed):\n",
    "    os.system(f\"/home/ian/Projects/work/md-lv/target/release/md-lv --unwrap --seed {seed} --init-config {init_config} --dir /media/ian/Data/final_md_lv variant ../variants.json\")\n",
    "\n",
    "\n",
    "\n",
    "pool = mp.Pool(7)\n",
    "\n",
    "iters = zip(inputs, range(seed, seed+10))\n",
    "pool.starmap(worker, iters)\n",
    "seed += 10"
   ]
  },
  {
   "cell_type": "code",
   "execution_count": 26,
   "metadata": {},
   "outputs": [],
   "source": [
    "def worker2(init_config, seed):\n",
    "    os.system(f\"/home/ian/Projects/work/md-lv/target/release/md-lv --temp 1e-2 --unwrap --seed {seed} --init-config {init_config} --dir /media/ian/Data/final_md_lv variant ../variants.json\")\n",
    "\n",
    "\n",
    "\n",
    "pool = mp.Pool(7)\n",
    "\n",
    "iters = zip(inputs, range(seed, seed+10))\n",
    "pool.starmap(worker2, iters)\n",
    "seed += 10"
   ]
  },
  {
   "cell_type": "code",
   "execution_count": 27,
   "metadata": {},
   "outputs": [],
   "source": [
    "def worker3(init_config, seed):\n",
    "    os.system(f\"/home/ian/Projects/work/md-lv/target/release/md-lv --temp 1e-3 --unwrap --seed {seed} --init-config {init_config} --dir /media/ian/Data/final_md_lv variant ../variants.json\")\n",
    "\n",
    "\n",
    "\n",
    "pool = mp.Pool(7)\n",
    "\n",
    "iters = zip(inputs, range(seed, seed+10))\n",
    "pool.starmap(worker3, iters)\n",
    "seed += 10"
   ]
  },
  {
   "cell_type": "code",
   "execution_count": null,
   "metadata": {},
   "outputs": [],
   "source": []
  }
 ],
 "metadata": {
  "interpreter": {
   "hash": "31b3881c9f7eb96fc1e4bfddd4b9b52265e68da258ffece4250b1bec13bf910d"
  },
  "kernelspec": {
   "display_name": "Python 3.8.5 64-bit ('analysis': conda)",
   "name": "python3"
  },
  "language_info": {
   "codemirror_mode": {
    "name": "ipython",
    "version": 3
   },
   "file_extension": ".py",
   "mimetype": "text/x-python",
   "name": "python",
   "nbconvert_exporter": "python",
   "pygments_lexer": "ipython3",
   "version": "3.8.5"
  }
 },
 "nbformat": 4,
 "nbformat_minor": 2
}