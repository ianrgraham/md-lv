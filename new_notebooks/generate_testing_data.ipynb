{
 "cells": [
  {
   "cell_type": "code",
   "execution_count": 11,
   "metadata": {},
   "outputs": [],
   "source": [
    "import numpy as np\n",
    "import matplotlib.pyplot as plt\n",
    "import pandas as pd\n",
    "import seaborn as sns\n",
    "\n",
    "import sys\n",
    "import os\n",
    "import subprocess\n",
    "from itertools import product\n",
    "import multiprocessing as mp"
   ]
  },
  {
   "cell_type": "code",
   "execution_count": 30,
   "metadata": {},
   "outputs": [
    {
     "data": {
      "text/plain": [
       "12"
      ]
     },
     "execution_count": 30,
     "metadata": {},
     "output_type": "execute_result"
    }
   ],
   "source": [
    "temps = np.array([0.01, 0.1, 0.4, 0.5, 0.6, 0.7, 0.8])\n",
    "temps = np.array([0.2, 0.3])\n",
    "rscales = np.linspace(1.0, 2.0, 6)\n",
    "inputs = list(product(temps, rscales))\n",
    "len(inputs)"
   ]
  },
  {
   "cell_type": "code",
   "execution_count": 31,
   "metadata": {},
   "outputs": [],
   "source": [
    "seed = 4300"
   ]
  },
  {
   "cell_type": "code",
   "execution_count": 32,
   "metadata": {},
   "outputs": [
    {
     "data": {
      "text/plain": [
       "4300"
      ]
     },
     "execution_count": 32,
     "metadata": {},
     "output_type": "execute_result"
    }
   ],
   "source": [
    "seed"
   ]
  },
  {
   "cell_type": "code",
   "execution_count": 33,
   "metadata": {},
   "outputs": [
    {
     "name": "stdout",
     "output_type": "stream",
     "text": [
      "0.2 1.0\n",
      "0.2 1.2\n",
      "0.2 1.4\n",
      "0.2 1.6\n",
      "0.2 1.8\n",
      "0.2 2.0\n",
      "0.3 1.0\n",
      "0.3 1.2\n",
      "0.3 1.4\n",
      "0.3 1.6\n",
      "0.3 1.8\n",
      "0.3 2.0\n"
     ]
    }
   ],
   "source": [
    "def worker(temp, rscale, seed):\n",
    "    os.system(f\"/home/ian/Projects/work/md-lv/target/release/md-lv --len 5.0 --time 100.0 -o 1.0 --temp {temp} --rscale {rscale} --seed {seed} --dir /media/ian/Data/new_md_lv\")\n",
    "\n",
    "\n",
    "\n",
    "pool = mp.Pool(7)\n",
    "\n",
    "for temp, rscale in inputs:\n",
    "    print(temp, rscale)\n",
    "    iters = [(temp, rscale, s) for s in range(seed, seed+100)]\n",
    "    pool.starmap(worker, iters)\n",
    "    seed += 100"
   ]
  },
  {
   "cell_type": "code",
   "execution_count": null,
   "metadata": {},
   "outputs": [],
   "source": []
  }
 ],
 "metadata": {
  "interpreter": {
   "hash": "31b3881c9f7eb96fc1e4bfddd4b9b52265e68da258ffece4250b1bec13bf910d"
  },
  "kernelspec": {
   "display_name": "Python 3.8.5 64-bit ('analysis': conda)",
   "name": "python3"
  },
  "language_info": {
   "name": "python",
   "version": ""
  }
 },
 "nbformat": 4,
 "nbformat_minor": 2
}