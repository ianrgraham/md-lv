{
 "cells": [
  {
   "cell_type": "code",
   "execution_count": 1,
   "metadata": {},
   "outputs": [],
   "source": [
    "import numpy as np\n",
    "import matplotlib.pyplot as plt\n",
    "import pandas as pd\n",
    "import seaborn as sns\n",
    "import glob\n",
    "\n",
    "import sys\n",
    "import os\n",
    "import subprocess\n",
    "from itertools import product\n",
    "import multiprocessing as mp"
   ]
  },
  {
   "cell_type": "code",
   "execution_count": 18,
   "metadata": {},
   "outputs": [],
   "source": [
    "seed = 0"
   ]
  },
  {
   "cell_type": "code",
   "execution_count": 19,
   "metadata": {},
   "outputs": [],
   "source": [
    "def worker(seed):\n",
    "    os.system(f\"/home/ian/Projects/work/md-lv/target/release/md-lv --len 3.5 --time 1000000 --seed {seed} --dir /media/ian/Data/final_md_lv equil-gd\")\n",
    "\n",
    "\n",
    "\n",
    "pool = mp.Pool(7)\n",
    "\n",
    "pool.map_async(worker, range(seed, seed+10))\n",
    "seed += 10"
   ]
  },
  {
   "cell_type": "code",
   "execution_count": 34,
   "metadata": {},
   "outputs": [],
   "source": [
    "inputs = sorted(glob.glob(\"/media/ian/Data/final_md_lv/equil*.json\"))"
   ]
  },
  {
   "cell_type": "code",
   "execution_count": 35,
   "metadata": {},
   "outputs": [
    {
     "data": {
      "text/plain": [
       "10"
      ]
     },
     "execution_count": 35,
     "metadata": {},
     "output_type": "execute_result"
    }
   ],
   "source": [
    "len(inputs)"
   ]
  },
  {
   "cell_type": "code",
   "execution_count": 36,
   "metadata": {},
   "outputs": [
    {
     "data": {
      "text/plain": [
       "'/media/ian/Data/final_md_lv/equil_n-10_l-3.5_dt-1e-3_visc-5_seed-0_phi-0.9489_rA-0.5000_rB-0.7000_vs-1.json'"
      ]
     },
     "execution_count": 36,
     "metadata": {},
     "output_type": "execute_result"
    }
   ],
   "source": [
    "inputs[0]"
   ]
  },
  {
   "cell_type": "code",
   "execution_count": 37,
   "metadata": {},
   "outputs": [
    {
     "data": {
      "text/plain": [
       "40"
      ]
     },
     "execution_count": 37,
     "metadata": {},
     "output_type": "execute_result"
    }
   ],
   "source": [
    "seed"
   ]
  },
  {
   "cell_type": "code",
   "execution_count": 25,
   "metadata": {},
   "outputs": [],
   "source": [
    "def worker(init_config, seed):\n",
    "    os.system(f\"/home/ian/Projects/work/md-lv/target/release/md-lv --unwrap --seed {seed} --init-config {init_config} --dir /media/ian/Data/final_md_lv variant ../variants.json\")\n",
    "\n",
    "\n",
    "\n",
    "pool = mp.Pool(7)\n",
    "\n",
    "iters = zip(inputs, range(seed, seed+10))\n",
    "pool.starmap(worker, iters)\n",
    "seed += 10"
   ]
  },
  {
   "cell_type": "code",
   "execution_count": 26,
   "metadata": {},
   "outputs": [],
   "source": [
    "def worker2(init_config, seed):\n",
    "    os.system(f\"/home/ian/Projects/work/md-lv/target/release/md-lv --temp 1e-2 --unwrap --seed {seed} --init-config {init_config} --dir /media/ian/Data/final_md_lv variant ../variants.json\")\n",
    "\n",
    "\n",
    "\n",
    "pool = mp.Pool(7)\n",
    "\n",
    "iters = zip(inputs, range(seed, seed+10))\n",
    "pool.starmap(worker2, iters)\n",
    "seed += 10"
   ]
  },
  {
   "cell_type": "code",
   "execution_count": 27,
   "metadata": {},
   "outputs": [],
   "source": [
    "def worker3(init_config, seed):\n",
    "    os.system(f\"/home/ian/Projects/work/md-lv/target/release/md-lv --temp 1e-3 --unwrap --seed {seed} --init-config {init_config} --dir /media/ian/Data/final_md_lv variant ../variants.json\")\n",
    "\n",
    "\n",
    "\n",
    "pool = mp.Pool(7)\n",
    "\n",
    "iters = zip(inputs, range(seed, seed+10))\n",
    "pool.starmap(worker3, iters)\n",
    "seed += 10"
   ]
  },
  {
   "cell_type": "code",
   "execution_count": 43,
   "metadata": {},
   "outputs": [],
   "source": [
    "temps = [0.1, 0.01, 0.001]\n",
    "vscales = [2, 4, 8, 16, 64, 256, 1024]\n",
    "realizations = 1000"
   ]
  },
  {
   "cell_type": "code",
   "execution_count": 44,
   "metadata": {},
   "outputs": [
    {
     "data": {
      "text/plain": [
       "210"
      ]
     },
     "execution_count": 44,
     "metadata": {},
     "output_type": "execute_result"
    }
   ],
   "source": [
    "pre_iter = list(product(inputs, temps, vscales))\n",
    "len(pre_iter)"
   ]
  },
  {
   "cell_type": "code",
   "execution_count": 45,
   "metadata": {},
   "outputs": [
    {
     "name": "stdout",
     "output_type": "stream",
     "text": [
      "0\n",
      "10\n",
      "20\n",
      "30\n",
      "40\n",
      "50\n",
      "60\n",
      "70\n",
      "80\n",
      "90\n",
      "100\n",
      "110\n",
      "120\n",
      "130\n",
      "140\n",
      "150\n",
      "160\n",
      "170\n",
      "180\n",
      "190\n",
      "200\n",
      "210\n",
      "220\n",
      "230\n",
      "240\n",
      "250\n",
      "260\n",
      "270\n",
      "280\n",
      "290\n",
      "300\n",
      "310\n",
      "320\n",
      "330\n",
      "340\n",
      "350\n",
      "360\n",
      "370\n",
      "380\n",
      "390\n",
      "400\n",
      "410\n",
      "420\n",
      "430\n",
      "440\n",
      "450\n",
      "460\n",
      "470\n",
      "480\n",
      "490\n",
      "500\n",
      "510\n",
      "520\n",
      "530\n",
      "540\n",
      "550\n",
      "560\n",
      "570\n",
      "580\n",
      "590\n",
      "600\n",
      "610\n"
     ]
    }
   ],
   "source": [
    "def worker4(init_config, temp, vscale, seed):\n",
    "    os.system(f\"/home/ian/Projects/work/md-lv/target/release/md-lv --temp {temp} --vscale {vscale} --unwrap --seed {seed} --init-config {init_config} --dir /media/ian/Data/final_md_lv_validation\")\n",
    "\n",
    "\n",
    "\n",
    "pool = mp.Pool(7)\n",
    "for r in range(realizations):\n",
    "    if r%10 == 0:\n",
    "        print(r)\n",
    "    iters = [(pre_iter[i][0], pre_iter[i][1], pre_iter[i][2], seed+i) for i in range(len(pre_iter))]\n",
    "    pool.starmap(worker4, iters)\n",
    "    seed += len(iters)"
   ]
  },
  {
   "cell_type": "code",
   "execution_count": null,
   "metadata": {},
   "outputs": [],
   "source": []
  }
 ],
 "metadata": {
  "interpreter": {
   "hash": "31b3881c9f7eb96fc1e4bfddd4b9b52265e68da258ffece4250b1bec13bf910d"
  },
  "kernelspec": {
   "display_name": "Python 3.8.5 64-bit ('analysis': conda)",
   "name": "python3"
  },
  "language_info": {
   "codemirror_mode": {
    "name": "ipython",
    "version": 3
   },
   "file_extension": ".py",
   "mimetype": "text/x-python",
   "name": "python",
   "nbconvert_exporter": "python",
   "pygments_lexer": "ipython3",
   "version": "3.8.5"
  }
 },
 "nbformat": 4,
 "nbformat_minor": 2
}